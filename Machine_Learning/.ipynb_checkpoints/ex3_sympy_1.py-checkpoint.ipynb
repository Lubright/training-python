{
 "cells": [
  {
   "cell_type": "code",
   "execution_count": 1,
   "metadata": {},
   "outputs": [],
   "source": [
    "import numpy as np\n",
    "import pandas as pd\n",
    "import matplotlib.pyplot as plt\n",
    "import math\n",
    "from sympy.solvers import solve\n",
    "from sympy import Symbol"
   ]
  },
  {
   "cell_type": "markdown",
   "metadata": {},
   "source": [
    "## 聯立不等式"
   ]
  },
  {
   "cell_type": "code",
   "execution_count": 2,
   "metadata": {},
   "outputs": [
    {
     "data": {
      "text/plain": [
       "{x: 5.00000000000000, y: 5.00000000000000}"
      ]
     },
     "execution_count": 2,
     "metadata": {},
     "output_type": "execute_result"
    }
   ],
   "source": [
    "x = Symbol('x')\n",
    "y = Symbol('y')\n",
    "eq1 = 8 - 0.6*x - y\n",
    "eq2 = 17.5 - 2.5*x -y\n",
    "ans = solve((eq1, eq2))\n",
    "ans"
   ]
  },
  {
   "cell_type": "code",
   "execution_count": 4,
   "metadata": {},
   "outputs": [
    {
     "data": {
      "text/latex": [
       "$\\displaystyle 500.0$"
      ],
      "text/plain": [
       "500.000000000000"
      ]
     },
     "execution_count": 4,
     "metadata": {},
     "output_type": "execute_result"
    }
   ],
   "source": [
    "## 目標函數 - 最大獲利值\n",
    "z = 50*ans[x] + 50*ans[y]\n",
    "z"
   ]
  },
  {
   "cell_type": "code",
   "execution_count": 5,
   "metadata": {},
   "outputs": [
    {
     "data": {
      "text/plain": [
       "(array([ 0.        ,  1.05263158,  2.10526316,  3.15789474,  4.21052632,\n",
       "         5.26315789,  6.31578947,  7.36842105,  8.42105263,  9.47368421,\n",
       "        10.52631579, 11.57894737, 12.63157895, 13.68421053, 14.73684211,\n",
       "        15.78947368, 16.84210526, 17.89473684, 18.94736842, 20.        ]),\n",
       " array([ 17.5       ,  14.86842105,  12.23684211,   9.60526316,\n",
       "          6.97368421,   4.34210526,   1.71052632,  -0.92105263,\n",
       "         -3.55263158,  -6.18421053,  -8.81578947, -11.44736842,\n",
       "        -14.07894737, -16.71052632, -19.34210526, -21.97368421,\n",
       "        -24.60526316, -27.23684211, -29.86842105, -32.5       ]))"
      ]
     },
     "execution_count": 5,
     "metadata": {},
     "output_type": "execute_result"
    }
   ],
   "source": [
    "## plot\n",
    "### line1\n",
    "line1_x = np.linspace(0, 20, 20)\n",
    "line1_y = np.multiply(-2.5, line1_x)+17.5\n",
    "line1_x, line1_y"
   ]
  },
  {
   "cell_type": "code",
   "execution_count": 11,
   "metadata": {},
   "outputs": [
    {
     "data": {
      "text/plain": [
       "(array([ 0.        ,  1.05263158,  2.10526316,  3.15789474,  4.21052632,\n",
       "         5.26315789,  6.31578947,  7.36842105,  8.42105263,  9.47368421,\n",
       "        10.52631579, 11.57894737, 12.63157895, 13.68421053, 14.73684211,\n",
       "        15.78947368, 16.84210526, 17.89473684, 18.94736842, 20.        ]),\n",
       " array([ 8.        ,  7.36842105,  6.73684211,  6.10526316,  5.47368421,\n",
       "         4.84210526,  4.21052632,  3.57894737,  2.94736842,  2.31578947,\n",
       "         1.68421053,  1.05263158,  0.42105263, -0.21052632, -0.84210526,\n",
       "        -1.47368421, -2.10526316, -2.73684211, -3.36842105, -4.        ]))"
      ]
     },
     "execution_count": 11,
     "metadata": {},
     "output_type": "execute_result"
    }
   ],
   "source": [
    "### line2\n",
    "line2_x = np.linspace(0, 20, 20)\n",
    "line2_y = line2_x*(-0.6) + 8\n",
    "line2_x, line2_y"
   ]
  },
  {
   "cell_type": "code",
   "execution_count": 29,
   "metadata": {},
   "outputs": [
    {
     "data": {
      "text/plain": [
       "(array([ 0.        ,  1.05263158,  2.10526316,  3.15789474,  4.21052632,\n",
       "         5.26315789,  6.31578947,  7.36842105,  8.42105263,  9.47368421,\n",
       "        10.52631579, 11.57894737, 12.63157895, 13.68421053, 14.73684211,\n",
       "        15.78947368, 16.84210526, 17.89473684, 18.94736842, 20.        ]),\n",
       " array([ 10.        ,   8.94736842,   7.89473684,   6.84210526,\n",
       "          5.78947368,   4.73684211,   3.68421053,   2.63157895,\n",
       "          1.57894737,   0.52631579,  -0.52631579,  -1.57894737,\n",
       "         -2.63157895,  -3.68421053,  -4.73684211,  -5.78947368,\n",
       "         -6.84210526,  -7.89473684,  -8.94736842, -10.        ]))"
      ]
     },
     "execution_count": 29,
     "metadata": {},
     "output_type": "execute_result"
    }
   ],
   "source": [
    "### line3\n",
    "line3_x = np.linspace(0, 20, 20)\n",
    "line3_y = np.multiply(-1, line3_x) + 10\n",
    "line3_x, line3_y"
   ]
  },
  {
   "cell_type": "code",
   "execution_count": 30,
   "metadata": {},
   "outputs": [
    {
     "data": {
      "image/png": "[encoded data removed]",
      "text/plain": [
       "<Figure size 432x288 with 1 Axes>"
      ]
     },
     "metadata": {
      "needs_background": "light"
     },
     "output_type": "display_data"
    }
   ],
   "source": [
    "plt.plot(line1_x, line1_y,\n",
    "         color=\"blue\",\n",
    "         linestyle=\"-\", \n",
    "         linewidth=2,\n",
    "         label=\"line1\") # https://matplotlib.org/stable/api/_as_gen/matplotlib.pyplot.plot.html#matplotlib.pyplot.plot\n",
    "\n",
    "plt.plot(line2_x, line2_y,\n",
    "         color=\"green\",\n",
    "         linestyle=\"-\", \n",
    "         linewidth=2,\n",
    "         label=\"line2\") # https://matplotlib.org/stable/api/_as_gen/matplotlib.pyplot.plot.html#matplotlib.pyplot.plot\n",
    "\n",
    "plt.plot(line3_x, line3_y,\n",
    "         color=\"purple\",\n",
    "         linestyle=\"-\", \n",
    "         linewidth=2,\n",
    "         label=\"line2\") # https://matplotlib.org/stable/api/_as_gen/matplotlib.pyplot.plot.html#matplotlib.pyplot.plot\n",
    "\n",
    "\n",
    "### plot pts\n",
    "plt.plot(ans[x], ans[y],\n",
    "         color=\"orange\",\n",
    "         marker='o', \n",
    "         linestyle=\"-\", \n",
    "         linewidth=2) # https://matplotlib.org/stable/api/_as_gen/matplotlib.pyplot.plot.html#matplotlib.pyplot.plot\n",
    "\n",
    "\n",
    "plt.xlim(0, 21)\n",
    "plt.ylim(0, 21)\n",
    "# plt.xticks(line1_x)\n",
    "\n",
    "plt.text(ans[x]+0.2, ans[y]+1, \"({:.0f}, {:.0f})\".format(ans[x], ans[y]))\n",
    "\n",
    "plt.title(\"ch8_2.py\", fontsize=24)\n",
    "plt.xlabel(\"x\", fontsize=14)\n",
    "plt.ylabel(\"y\", fontsize=14)\n",
    "plt.legend(loc=\"lower right\")\n",
    "\n",
    "plt.tight_layout()\n",
    "plt.grid(True)\n",
    "# plt.axis(\"equal\") # x, y 軸距長度一致\n",
    "\n",
    "plt.show()"
   ]
  },
  {
   "cell_type": "code",
   "execution_count": 9,
   "metadata": {},
   "outputs": [
    {
     "data": {
      "image/png": "[encoded data removed]",
      "text/plain": [
       "<Figure size 432x288 with 1 Axes>"
      ]
     },
     "metadata": {
      "needs_background": "light"
     },
     "output_type": "display_data"
    }
   ],
   "source": [
    "\n"
   ]
  }
 ],
 "metadata": {
  "kernelspec": {
   "display_name": "web_scraping",
   "language": "python",
   "name": "web_scraping"
  },
  "language_info": {
   "codemirror_mode": {
    "name": "ipython",
    "version": 3
   },
   "file_extension": ".py",
   "mimetype": "text/x-python",
   "name": "python",
   "nbconvert_exporter": "python",
   "pygments_lexer": "ipython3",
   "version": "3.7.10"
  }
 },
 "nbformat": 4,
 "nbformat_minor": 2
}
