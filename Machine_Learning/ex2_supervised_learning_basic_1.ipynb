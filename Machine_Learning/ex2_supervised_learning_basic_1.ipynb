{
 "cells": [
  {
   "cell_type": "code",
   "execution_count": 2,
   "metadata": {},
   "outputs": [],
   "source": [
    "import numpy as np\n",
    "import pandas as pd\n",
    "import matplotlib.pyplot as plt\n",
    "import math"
   ]
  },
  {
   "cell_type": "markdown",
   "metadata": {},
   "source": [
    "## KNN 演算法\n",
    "- 將畢氏定理應用在更高維的空間"
   ]
  },
  {
   "cell_type": "code",
   "execution_count": 3,
   "metadata": {},
   "outputs": [
    {
     "data": {
      "text/plain": [
       "{'love': 5, 'internation': 7, 'sword': 8, 'car': 10, 'action': 2}"
      ]
     },
     "execution_count": 3,
     "metadata": {},
     "output_type": "execute_result"
    }
   ],
   "source": [
    "standard_movie_score = {\n",
    "    \"love\":5,\n",
    "    \"internation\":7,\n",
    "    \"sword\":8,\n",
    "    \"car\":10,\n",
    "    \"action\":2\n",
    "}\n",
    "standard_movie_score"
   ]
  },
  {
   "cell_type": "code",
   "execution_count": 5,
   "metadata": {},
   "outputs": [
    {
     "data": {
      "text/plain": [
       "[{'love': 2, 'internation': 8, 'sword': 8, 'car': 5, 'action': 6},\n",
       " {'love': 5, 'internation': 6, 'sword': 9, 'car': 2, 'action': 5},\n",
       " {'love': 8, 'internation': 2, 'sword': 0, 'car': 0, 'action': 10},\n",
       " {'love': 5, 'internation': 8, 'sword': 8, 'car': 8, 'action': 3}]"
      ]
     },
     "execution_count": 5,
     "metadata": {},
     "output_type": "execute_result"
    }
   ],
   "source": [
    "movie_scores = [{\n",
    "    \"love\":2,\n",
    "    \"internation\":8,\n",
    "    \"sword\":8,\n",
    "    \"car\":5,\n",
    "    \"action\":6\n",
    "}, {\n",
    "    \"love\":5,\n",
    "    \"internation\":6,\n",
    "    \"sword\":9,\n",
    "    \"car\":2,\n",
    "    \"action\":5\n",
    "}, {\n",
    "    \"love\":8,\n",
    "    \"internation\":2,\n",
    "    \"sword\":0,\n",
    "    \"car\":0,\n",
    "    \"action\":10\n",
    "}, {\n",
    "    \"love\":5,\n",
    "    \"internation\":8,\n",
    "    \"sword\":8,\n",
    "    \"car\":8,\n",
    "    \"action\":3\n",
    "}]\n",
    "movie_scores"
   ]
  },
  {
   "cell_type": "code",
   "execution_count": 8,
   "metadata": {},
   "outputs": [],
   "source": [
    "movie_names = [\"復仇者聯盟\", \"決戰中途島\", \"冰雪奇緣\", \"雙子殺手\"]"
   ]
  },
  {
   "cell_type": "code",
   "execution_count": 15,
   "metadata": {},
   "outputs": [
    {
     "name": "stdout",
     "output_type": "stream",
     "text": [
      "復仇者聯盟 : {'love': 2, 'internation': 8, 'sword': 8, 'car': 5, 'action': 6}\n",
      "決戰中途島 : {'love': 5, 'internation': 6, 'sword': 9, 'car': 2, 'action': 5}\n",
      "冰雪奇緣 : {'love': 8, 'internation': 2, 'sword': 0, 'car': 0, 'action': 10}\n",
      "雙子殺手 : {'love': 5, 'internation': 8, 'sword': 8, 'car': 8, 'action': 3}\n"
     ]
    },
    {
     "data": {
      "text/plain": [
       "{'復仇者聯盟': 7.14142842854285,\n",
       " '決戰中途島': 8.660254037844387,\n",
       " '冰雪奇緣': 16.186414056238647,\n",
       " '雙子殺手': 2.449489742783178}"
      ]
     },
     "execution_count": 15,
     "metadata": {},
     "output_type": "execute_result"
    }
   ],
   "source": [
    "result = {} # 儲存影片相似度值\n",
    "for movie_name, score in zip(movie_names, movie_scores):\n",
    "    print(movie_name, \":\", score)\n",
    "    distance = 0\n",
    "    for k in score.keys():\n",
    "        distance += ((score.get(k) - standard_movie_score.get(k)) ** 2)\n",
    "#     print(distance)\n",
    "    result[movie_name] = math.sqrt(distance)\n",
    "\n",
    "result"
   ]
  },
  {
   "cell_type": "code",
   "execution_count": 18,
   "metadata": {},
   "outputs": [
    {
     "data": {
      "text/plain": [
       "('雙子殺手', 2.449489742783178)"
      ]
     },
     "execution_count": 18,
     "metadata": {},
     "output_type": "execute_result"
    }
   ],
   "source": [
    "the_best_related_movie = min(result.items(), key=lambda item: item[1])\n",
    "the_best_related_movie"
   ]
  },
  {
   "cell_type": "markdown",
   "metadata": {},
   "source": [
    "### 使用 numpy"
   ]
  },
  {
   "cell_type": "code",
   "execution_count": 43,
   "metadata": {},
   "outputs": [
    {
     "data": {
      "text/html": [
       "<div>\n",
       "<style scoped>\n",
       "    .dataframe tbody tr th:only-of-type {\n",
       "        vertical-align: middle;\n",
       "    }\n",
       "\n",
       "    .dataframe tbody tr th {\n",
       "        vertical-align: top;\n",
       "    }\n",
       "\n",
       "    .dataframe thead th {\n",
       "        text-align: right;\n",
       "    }\n",
       "</style>\n",
       "<table border=\"1\" class=\"dataframe\">\n",
       "  <thead>\n",
       "    <tr style=\"text-align: right;\">\n",
       "      <th></th>\n",
       "      <th>name</th>\n",
       "      <th>love</th>\n",
       "      <th>internation</th>\n",
       "      <th>sword</th>\n",
       "      <th>car</th>\n",
       "      <th>action</th>\n",
       "    </tr>\n",
       "  </thead>\n",
       "  <tbody>\n",
       "    <tr>\n",
       "      <th>0</th>\n",
       "      <td>復仇者聯盟</td>\n",
       "      <td>2</td>\n",
       "      <td>8</td>\n",
       "      <td>8</td>\n",
       "      <td>5</td>\n",
       "      <td>6</td>\n",
       "    </tr>\n",
       "    <tr>\n",
       "      <th>1</th>\n",
       "      <td>決戰中途島</td>\n",
       "      <td>5</td>\n",
       "      <td>6</td>\n",
       "      <td>9</td>\n",
       "      <td>2</td>\n",
       "      <td>5</td>\n",
       "    </tr>\n",
       "    <tr>\n",
       "      <th>2</th>\n",
       "      <td>冰雪奇緣</td>\n",
       "      <td>8</td>\n",
       "      <td>2</td>\n",
       "      <td>0</td>\n",
       "      <td>0</td>\n",
       "      <td>10</td>\n",
       "    </tr>\n",
       "    <tr>\n",
       "      <th>3</th>\n",
       "      <td>雙子殺手</td>\n",
       "      <td>5</td>\n",
       "      <td>8</td>\n",
       "      <td>8</td>\n",
       "      <td>8</td>\n",
       "      <td>3</td>\n",
       "    </tr>\n",
       "  </tbody>\n",
       "</table>\n",
       "</div>"
      ],
      "text/plain": [
       "    name  love  internation  sword  car  action\n",
       "0  復仇者聯盟     2            8      8    5       6\n",
       "1  決戰中途島     5            6      9    2       5\n",
       "2   冰雪奇緣     8            2      0    0      10\n",
       "3   雙子殺手     5            8      8    8       3"
      ]
     },
     "execution_count": 43,
     "metadata": {},
     "output_type": "execute_result"
    }
   ],
   "source": [
    "movies_df = pd.DataFrame()\n",
    "movies_df[\"name\"] = movie_names\n",
    "movies_df = pd.concat([movies_df, pd.DataFrame(movie_scores)], axis=1) # 合併\n",
    "movies_df"
   ]
  },
  {
   "cell_type": "code",
   "execution_count": 48,
   "metadata": {},
   "outputs": [
    {
     "name": "stdout",
     "output_type": "stream",
     "text": [
      "love            5\n",
      "internation     7\n",
      "sword           8\n",
      "car            10\n",
      "action          2\n",
      "dtype: int64\n",
      "Index(['love', 'internation', 'sword', 'car', 'action'], dtype='object')\n"
     ]
    }
   ],
   "source": [
    "standard_movie_score_ser = pd.Series(standard_movie_score)\n",
    "print(standard_movie_score_ser)\n",
    "print(standard_movie_score_ser.index)"
   ]
  },
  {
   "cell_type": "code",
   "execution_count": 49,
   "metadata": {},
   "outputs": [
    {
     "data": {
      "text/plain": [
       "love           2\n",
       "internation    8\n",
       "sword          8\n",
       "car            5\n",
       "action         6\n",
       "Name: 0, dtype: object"
      ]
     },
     "execution_count": 49,
     "metadata": {},
     "output_type": "execute_result"
    }
   ],
   "source": [
    "movies_df.loc[0, standard_movie_score_ser.index]"
   ]
  },
  {
   "cell_type": "code",
   "execution_count": 57,
   "metadata": {},
   "outputs": [
    {
     "data": {
      "text/plain": [
       "[7.14142842854285, 8.660254037844387, 16.186414056238647, 2.449489742783178]"
      ]
     },
     "execution_count": 57,
     "metadata": {},
     "output_type": "execute_result"
    }
   ],
   "source": [
    "distances = []\n",
    "for i in movies_df.index:\n",
    "    distance = movies_df.loc[i, standard_movie_score_ser.index] - standard_movie_score_ser\n",
    "    distance = distance ** 2\n",
    "    distance = np.sum(distance)\n",
    "    distance = math.sqrt(distance)\n",
    "    distances.append(distance)\n",
    "distances"
   ]
  },
  {
   "cell_type": "code",
   "execution_count": 58,
   "metadata": {},
   "outputs": [
    {
     "data": {
      "text/html": [
       "<div>\n",
       "<style scoped>\n",
       "    .dataframe tbody tr th:only-of-type {\n",
       "        vertical-align: middle;\n",
       "    }\n",
       "\n",
       "    .dataframe tbody tr th {\n",
       "        vertical-align: top;\n",
       "    }\n",
       "\n",
       "    .dataframe thead th {\n",
       "        text-align: right;\n",
       "    }\n",
       "</style>\n",
       "<table border=\"1\" class=\"dataframe\">\n",
       "  <thead>\n",
       "    <tr style=\"text-align: right;\">\n",
       "      <th></th>\n",
       "      <th>name</th>\n",
       "      <th>love</th>\n",
       "      <th>internation</th>\n",
       "      <th>sword</th>\n",
       "      <th>car</th>\n",
       "      <th>action</th>\n",
       "      <th>distance</th>\n",
       "    </tr>\n",
       "  </thead>\n",
       "  <tbody>\n",
       "    <tr>\n",
       "      <th>0</th>\n",
       "      <td>復仇者聯盟</td>\n",
       "      <td>2</td>\n",
       "      <td>8</td>\n",
       "      <td>8</td>\n",
       "      <td>5</td>\n",
       "      <td>6</td>\n",
       "      <td>7.141428</td>\n",
       "    </tr>\n",
       "    <tr>\n",
       "      <th>1</th>\n",
       "      <td>決戰中途島</td>\n",
       "      <td>5</td>\n",
       "      <td>6</td>\n",
       "      <td>9</td>\n",
       "      <td>2</td>\n",
       "      <td>5</td>\n",
       "      <td>8.660254</td>\n",
       "    </tr>\n",
       "    <tr>\n",
       "      <th>2</th>\n",
       "      <td>冰雪奇緣</td>\n",
       "      <td>8</td>\n",
       "      <td>2</td>\n",
       "      <td>0</td>\n",
       "      <td>0</td>\n",
       "      <td>10</td>\n",
       "      <td>16.186414</td>\n",
       "    </tr>\n",
       "    <tr>\n",
       "      <th>3</th>\n",
       "      <td>雙子殺手</td>\n",
       "      <td>5</td>\n",
       "      <td>8</td>\n",
       "      <td>8</td>\n",
       "      <td>8</td>\n",
       "      <td>3</td>\n",
       "      <td>2.449490</td>\n",
       "    </tr>\n",
       "  </tbody>\n",
       "</table>\n",
       "</div>"
      ],
      "text/plain": [
       "    name  love  internation  sword  car  action   distance\n",
       "0  復仇者聯盟     2            8      8    5       6   7.141428\n",
       "1  決戰中途島     5            6      9    2       5   8.660254\n",
       "2   冰雪奇緣     8            2      0    0      10  16.186414\n",
       "3   雙子殺手     5            8      8    8       3   2.449490"
      ]
     },
     "execution_count": 58,
     "metadata": {},
     "output_type": "execute_result"
    }
   ],
   "source": [
    "movies_df[\"distance\"] = distances\n",
    "movies_df"
   ]
  },
  {
   "cell_type": "code",
   "execution_count": 63,
   "metadata": {},
   "outputs": [
    {
     "name": "stdout",
     "output_type": "stream",
     "text": [
      "name              雙子殺手\n",
      "love                 5\n",
      "internation          8\n",
      "sword                8\n",
      "car                  8\n",
      "action               3\n",
      "distance       2.44949\n",
      "Name: 3, dtype: object\n",
      "<class 'pandas.core.series.Series'>\n"
     ]
    }
   ],
   "source": [
    "min_index = movies_df[\"distance\"].idxmin()\n",
    "print(movies_df.loc[min_index, :])\n",
    "print(type(movies_df.loc[min_index, :]))"
   ]
  },
  {
   "cell_type": "code",
   "execution_count": null,
   "metadata": {},
   "outputs": [],
   "source": []
  }
 ],
 "metadata": {
  "kernelspec": {
   "display_name": "web_scraping",
   "language": "python",
   "name": "web_scraping"
  },
  "language_info": {
   "codemirror_mode": {
    "name": "ipython",
    "version": 3
   },
   "file_extension": ".py",
   "mimetype": "text/x-python",
   "name": "python",
   "nbconvert_exporter": "python",
   "pygments_lexer": "ipython3",
   "version": "3.7.10"
  }
 },
 "nbformat": 4,
 "nbformat_minor": 2
}
